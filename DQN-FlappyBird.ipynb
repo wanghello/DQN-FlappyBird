{
 "cells": [
  {
   "cell_type": "code",
   "execution_count": 1,
   "metadata": {},
   "outputs": [],
   "source": [
    "import cv2\n",
    "import sys\n",
    "sys.path.append(\"game/\")\n",
    "import numpy as np\n",
    "import random\n",
    "from collections import deque\n",
    "\n",
    "import torch\n",
    "import torch.nn as nn\n",
    "from torch.autograd import Variable\n",
    "\n",
    "import wrapped_flappy_bird as game\n",
    "\n",
    "from DQN import DQN"
   ]
  },
  {
   "cell_type": "code",
   "execution_count": 2,
   "metadata": {},
   "outputs": [],
   "source": [
    "cuda = True"
   ]
  },
  {
   "cell_type": "code",
   "execution_count": 3,
   "metadata": {},
   "outputs": [],
   "source": [
    "#convert images to 80*80 gray images\n",
    "def preprocess(observation):\n",
    "    img = cv2.resize(observation, (80, 80))\n",
    "    observation = cv2.cvtColor(img, cv2.COLOR_BGR2GRAY)\n",
    "    ret, observation = cv2.threshold(observation,1,255,cv2.THRESH_BINARY)\n",
    "    return np.reshape(observation,(80,80,1))"
   ]
  },
  {
   "cell_type": "code",
   "execution_count": 4,
   "metadata": {},
   "outputs": [],
   "source": [
    "class CFG(object):\n",
    "    lr=0.001\n",
    "    actions=2\n",
    "    is_training=True\n",
    "    load_weight=False\n",
    "    gamma=0.99\n",
    "    batch_size=32\n",
    "    mem_size=5000\n",
    "    epsilon=0.9\n",
    "    initial_epsilon=1.\n",
    "    final_epsilon=0.1\n",
    "    observation=100\n",
    "    exploration=50000\n",
    "    max_episode=100000\n",
    "    save_checkpoint_freq = 100000"
   ]
  },
  {
   "cell_type": "code",
   "execution_count": 5,
   "metadata": {},
   "outputs": [],
   "source": [
    "best_time_step = 0.\n",
    "flappyBird = game.GameState()\n",
    "cfg = CFG()\n",
    "dqn = DQN(cfg)"
   ]
  },
  {
   "cell_type": "code",
   "execution_count": 6,
   "metadata": {},
   "outputs": [],
   "source": [
    "if cuda:\n",
    "    dqn.model = dqn.model.cuda()"
   ]
  },
  {
   "cell_type": "code",
   "execution_count": 7,
   "metadata": {},
   "outputs": [],
   "source": [
    "action=[1,0]\n",
    "o, r, terminal = flappyBird.frame_step(action)\n",
    "best_time_step = 0.\n",
    "o = preprocess(o)"
   ]
  },
  {
   "cell_type": "code",
   "execution_count": 8,
   "metadata": {},
   "outputs": [],
   "source": [
    "for i in range(cfg.observation):\n",
    "    action = dqn.get_action_randomly()\n",
    "    o, r, terminal = flappyBird.frame_step(action)\n",
    "    o = preprocess(o)\n",
    "    dqn.storeTransition(o, action, r, terminal)"
   ]
  },
  {
   "cell_type": "code",
   "execution_count": 9,
   "metadata": {},
   "outputs": [],
   "source": [
    "def test_dqn(model, episode):\n",
    "    \"\"\"Test the behavor of dqn when training\n",
    "       model -- dqn model\n",
    "       episode -- current training episode\n",
    "    \"\"\"\n",
    "    model.is_training = False\n",
    "    #model.set_eval()\n",
    "    ave_time = 0.\n",
    "    for test_case in range(5):\n",
    "        model.time_step = 0\n",
    "        flappyBird = game.GameState()\n",
    "        o, r, terminal = flappyBird.frame_step([1, 0])\n",
    "        o = preprocess(o)\n",
    "        model.set_initial_state()\n",
    "        while True:\n",
    "            action = model.get_optim_action()\n",
    "            o, r, terminal = flappyBird.frame_step(action)\n",
    "            if terminal:\n",
    "                break\n",
    "            o = preprocess(o)\n",
    "            model.current_state = np.append(model.current_state[1:,:,:], o.reshape((1,)+o.shape), axis=0)\n",
    "            model.increase_time_step()\n",
    "        ave_time += model.time_step\n",
    "    ave_time /= 5\n",
    "    print ('testing: episode: {}, average time: {}'.format(episode, ave_time))\n",
    "    return ave_time"
   ]
  },
  {
   "cell_type": "code",
   "execution_count": 10,
   "metadata": {},
   "outputs": [
    {
     "ename": "NotImplementedError",
     "evalue": "",
     "output_type": "error",
     "traceback": [
      "\u001b[0;31m---------------------------------------------------------------------------\u001b[0m",
      "\u001b[0;31mNotImplementedError\u001b[0m                       Traceback (most recent call last)",
      "\u001b[0;32m<ipython-input-10-ddb4d4090076>\u001b[0m in \u001b[0;36m<module>\u001b[0;34m()\u001b[0m\n\u001b[1;32m     11\u001b[0m         \u001b[0mdqn\u001b[0m\u001b[0;34m.\u001b[0m\u001b[0mincreaseTimeStep\u001b[0m\u001b[0;34m(\u001b[0m\u001b[0;34m)\u001b[0m\u001b[0;34m\u001b[0m\u001b[0m\n\u001b[1;32m     12\u001b[0m         \u001b[0mdqn\u001b[0m\u001b[0;34m.\u001b[0m\u001b[0mmodel\u001b[0m\u001b[0;34m.\u001b[0m\u001b[0mtrain\u001b[0m\u001b[0;34m(\u001b[0m\u001b[0;34m)\u001b[0m\u001b[0;34m\u001b[0m\u001b[0m\n\u001b[0;32m---> 13\u001b[0;31m         \u001b[0mdqn\u001b[0m\u001b[0;34m.\u001b[0m\u001b[0mtrainByBatch\u001b[0m\u001b[0;34m(\u001b[0m\u001b[0;34m)\u001b[0m\u001b[0;34m\u001b[0m\u001b[0m\n\u001b[0m\u001b[1;32m     14\u001b[0m \u001b[0;34m\u001b[0m\u001b[0m\n\u001b[1;32m     15\u001b[0m         \u001b[0;32mif\u001b[0m \u001b[0mterminal\u001b[0m\u001b[0;34m:\u001b[0m\u001b[0;34m\u001b[0m\u001b[0m\n",
      "\u001b[0;32m~/Desktop/DQN-FlappyBird/DQN.py\u001b[0m in \u001b[0;36mtrainByBatch\u001b[0;34m(self)\u001b[0m\n\u001b[1;32m    114\u001b[0m         \u001b[0mstate_batch_var\u001b[0m \u001b[0;34m=\u001b[0m \u001b[0mVariable\u001b[0m\u001b[0;34m(\u001b[0m\u001b[0mtorch\u001b[0m\u001b[0;34m.\u001b[0m\u001b[0mfrom_numpy\u001b[0m\u001b[0;34m(\u001b[0m\u001b[0mstate_batch\u001b[0m\u001b[0;34m)\u001b[0m\u001b[0;34m)\u001b[0m\u001b[0;34m\u001b[0m\u001b[0m\n\u001b[1;32m    115\u001b[0m         \u001b[0mnext_state_batch_var\u001b[0m \u001b[0;34m=\u001b[0m \u001b[0mVariable\u001b[0m\u001b[0;34m(\u001b[0m\u001b[0mtorch\u001b[0m\u001b[0;34m.\u001b[0m\u001b[0mfrom_numpy\u001b[0m\u001b[0;34m(\u001b[0m\u001b[0mnext_state_batch\u001b[0m\u001b[0;34m)\u001b[0m\u001b[0;34m,\u001b[0m\u001b[0mvolatile\u001b[0m\u001b[0;34m=\u001b[0m\u001b[0;32mTrue\u001b[0m\u001b[0;34m)\u001b[0m\u001b[0;34m\u001b[0m\u001b[0m\n\u001b[0;32m--> 116\u001b[0;31m         \u001b[0mq_value_next\u001b[0m \u001b[0;34m=\u001b[0m \u001b[0mself\u001b[0m\u001b[0;34m.\u001b[0m\u001b[0mmodel\u001b[0m\u001b[0;34m(\u001b[0m\u001b[0mnext_state_batch_var\u001b[0m\u001b[0;34m)\u001b[0m\u001b[0;34m\u001b[0m\u001b[0m\n\u001b[0m\u001b[1;32m    117\u001b[0m         \u001b[0mq_value\u001b[0m \u001b[0;34m=\u001b[0m \u001b[0mself\u001b[0m\u001b[0;34m.\u001b[0m\u001b[0mmodel\u001b[0m\u001b[0;34m(\u001b[0m\u001b[0mstate_batch_var\u001b[0m\u001b[0;34m)\u001b[0m\u001b[0;34m\u001b[0m\u001b[0m\n\u001b[1;32m    118\u001b[0m         \u001b[0my\u001b[0m \u001b[0;34m=\u001b[0m \u001b[0mreward_batch\u001b[0m\u001b[0;34m.\u001b[0m\u001b[0mastype\u001b[0m\u001b[0;34m(\u001b[0m\u001b[0mnp\u001b[0m\u001b[0;34m.\u001b[0m\u001b[0mfloat32\u001b[0m\u001b[0;34m)\u001b[0m\u001b[0;34m\u001b[0m\u001b[0m\n",
      "\u001b[0;32m~/anaconda3/envs/python3/lib/python3.6/site-packages/torch/nn/modules/module.py\u001b[0m in \u001b[0;36m__call__\u001b[0;34m(self, *input, **kwargs)\u001b[0m\n\u001b[1;32m    222\u001b[0m         \u001b[0;32mfor\u001b[0m \u001b[0mhook\u001b[0m \u001b[0;32min\u001b[0m \u001b[0mself\u001b[0m\u001b[0;34m.\u001b[0m\u001b[0m_forward_pre_hooks\u001b[0m\u001b[0;34m.\u001b[0m\u001b[0mvalues\u001b[0m\u001b[0;34m(\u001b[0m\u001b[0;34m)\u001b[0m\u001b[0;34m:\u001b[0m\u001b[0;34m\u001b[0m\u001b[0m\n\u001b[1;32m    223\u001b[0m             \u001b[0mhook\u001b[0m\u001b[0;34m(\u001b[0m\u001b[0mself\u001b[0m\u001b[0;34m,\u001b[0m \u001b[0minput\u001b[0m\u001b[0;34m)\u001b[0m\u001b[0;34m\u001b[0m\u001b[0m\n\u001b[0;32m--> 224\u001b[0;31m         \u001b[0mresult\u001b[0m \u001b[0;34m=\u001b[0m \u001b[0mself\u001b[0m\u001b[0;34m.\u001b[0m\u001b[0mforward\u001b[0m\u001b[0;34m(\u001b[0m\u001b[0;34m*\u001b[0m\u001b[0minput\u001b[0m\u001b[0;34m,\u001b[0m \u001b[0;34m**\u001b[0m\u001b[0mkwargs\u001b[0m\u001b[0;34m)\u001b[0m\u001b[0;34m\u001b[0m\u001b[0m\n\u001b[0m\u001b[1;32m    225\u001b[0m         \u001b[0;32mfor\u001b[0m \u001b[0mhook\u001b[0m \u001b[0;32min\u001b[0m \u001b[0mself\u001b[0m\u001b[0;34m.\u001b[0m\u001b[0m_forward_hooks\u001b[0m\u001b[0;34m.\u001b[0m\u001b[0mvalues\u001b[0m\u001b[0;34m(\u001b[0m\u001b[0;34m)\u001b[0m\u001b[0;34m:\u001b[0m\u001b[0;34m\u001b[0m\u001b[0m\n\u001b[1;32m    226\u001b[0m             \u001b[0mhook_result\u001b[0m \u001b[0;34m=\u001b[0m \u001b[0mhook\u001b[0m\u001b[0;34m(\u001b[0m\u001b[0mself\u001b[0m\u001b[0;34m,\u001b[0m \u001b[0minput\u001b[0m\u001b[0;34m,\u001b[0m \u001b[0mresult\u001b[0m\u001b[0;34m)\u001b[0m\u001b[0;34m\u001b[0m\u001b[0m\n",
      "\u001b[0;32m~/anaconda3/envs/python3/lib/python3.6/site-packages/torch/nn/modules/module.py\u001b[0m in \u001b[0;36mforward\u001b[0;34m(self, *input)\u001b[0m\n\u001b[1;32m     63\u001b[0m         \u001b[0mShould\u001b[0m \u001b[0mbe\u001b[0m \u001b[0moverriden\u001b[0m \u001b[0mby\u001b[0m \u001b[0mall\u001b[0m \u001b[0msubclasses\u001b[0m\u001b[0;34m.\u001b[0m\u001b[0;34m\u001b[0m\u001b[0m\n\u001b[1;32m     64\u001b[0m         \"\"\"\n\u001b[0;32m---> 65\u001b[0;31m         \u001b[0;32mraise\u001b[0m \u001b[0mNotImplementedError\u001b[0m\u001b[0;34m\u001b[0m\u001b[0m\n\u001b[0m\u001b[1;32m     66\u001b[0m \u001b[0;34m\u001b[0m\u001b[0m\n\u001b[1;32m     67\u001b[0m     \u001b[0;32mdef\u001b[0m \u001b[0mregister_buffer\u001b[0m\u001b[0;34m(\u001b[0m\u001b[0mself\u001b[0m\u001b[0;34m,\u001b[0m \u001b[0mname\u001b[0m\u001b[0;34m,\u001b[0m \u001b[0mtensor\u001b[0m\u001b[0;34m)\u001b[0m\u001b[0;34m:\u001b[0m\u001b[0;34m\u001b[0m\u001b[0m\n",
      "\u001b[0;31mNotImplementedError\u001b[0m: "
     ]
    }
   ],
   "source": [
    "for episode in range(cfg.max_episode):\n",
    "    dqn.time_step = 0\n",
    "    total_reward = 0.\n",
    "    while True:\n",
    "        dqn.optimizer.zero_grad()\n",
    "        action = dqn.get_action()\n",
    "        o_next, r, terminal = flappyBird.frame_step(action)\n",
    "        total_reward += cfg.gamma**dqn.time_step * r\n",
    "        o_next = preprocess(o_next)\n",
    "        dqn.storeTransition(o_next, action, r, terminal)\n",
    "        dqn.increaseTimeStep()\n",
    "        dqn.model.train()\n",
    "        dqn.trainByBatch()\n",
    "        \n",
    "        if terminal:\n",
    "            break\n",
    "    \n",
    "    print ('episode: {}, epsilon: {:.4f}, max time step: {}, total reward: {:.6f}'.format(\n",
    "            episode, dqn.epsilon, dqn.time_step, total_reward))\n",
    "    \n",
    "    if dqn.epsilon > cfg.final_e:\n",
    "        delta = (cfg.init_e - cfg.final_e)/cfg.exploration\n",
    "        dqn.epsilon -= delta\n",
    "    \n",
    "    if episode % 100 == 0:\n",
    "        ave_time = test_dqn(dqn, episode)\n",
    "    \n",
    "    if ave_time > best_time_step:\n",
    "        best_time_step = ave_time\n",
    "        save_checkpoint({\n",
    "                'episode': episode,\n",
    "                'epsilon': dqn.epsilon,\n",
    "                'state_dict': dqn.state_dict(),\n",
    "                'best_time_step': best_time_step,\n",
    "                 }, True, 'checkpoint-episode-%d.pth.tar' %episode)\n",
    "    elif episode % cfg.save_checkpoint_freq == 0:\n",
    "        save_checkpoint({\n",
    "                'episode:': episode,\n",
    "                'epsilon': dqn.epsilon,\n",
    "                'state_dict': dqn.state_dict(),\n",
    "                'time_step': ave_time,\n",
    "                 }, False, 'checkpoint-episode-%d.pth.tar' %episode)\n",
    "    else:\n",
    "        continue\n",
    "    print ('save checkpoint, episode={}, ave time step={:.2f}'.format(\n",
    "                episode, ave_time))"
   ]
  },
  {
   "cell_type": "code",
   "execution_count": null,
   "metadata": {},
   "outputs": [],
   "source": []
  },
  {
   "cell_type": "code",
   "execution_count": null,
   "metadata": {},
   "outputs": [],
   "source": []
  }
 ],
 "metadata": {
  "kernelspec": {
   "display_name": "Python 3",
   "language": "python",
   "name": "python3"
  },
  "language_info": {
   "codemirror_mode": {
    "name": "ipython",
    "version": 3
   },
   "file_extension": ".py",
   "mimetype": "text/x-python",
   "name": "python",
   "nbconvert_exporter": "python",
   "pygments_lexer": "ipython3",
   "version": "3.6.3"
  }
 },
 "nbformat": 4,
 "nbformat_minor": 2
}
